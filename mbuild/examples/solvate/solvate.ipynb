{
 "cells": [
  {
   "cell_type": "code",
   "execution_count": null,
   "metadata": {
    "collapsed": false,
    "jupyter": {
     "outputs_hidden": false
    }
   },
   "outputs": [],
   "source": [
    "\"\"\"Solvate an ethane molecule in a Box of water. \"\"\"\n",
    "\n",
    "from __future__ import print_function\n",
    "\n",
    "import mbuild as mb\n",
    "from mbuild.lib.moieties import H2O\n",
    "from mbuild.examples import Ethane\n",
    "\n",
    "\n",
    "ethane = Ethane()\n",
    "water = H2O()\n",
    "solvated_ethane = mb.solvate(ethane, water, 50, box=[2, 2, 2])\n",
    "print(solvated_ethane)\n",
    "solvated_ethane.visualize()"
   ]
  },
  {
   "cell_type": "code",
   "execution_count": null,
   "metadata": {},
   "outputs": [],
   "source": [
    "UN = mb.load(\"CONTCAR.pdb\")\n",
    "UN.visualize(color_scheme={\"N\":\"indigo\", \"U\":\"blue\"})"
   ]
  },
  {
   "cell_type": "code",
   "execution_count": null,
   "metadata": {},
   "outputs": [],
   "source": [
    "UN = mb.load(\"CONTCAR.pdb\")\n",
    "UN.visualize(color_scheme={\"N\":\"indigo\", \"U\":\"blue\"})\n",
    "solvated_UN = mb.solvate(UN, water, 10, box=[1, 1, 4])\n",
    "print(solvated_UN)\n",
    "solvated_UN.visualize()"
   ]
  },
  {
   "cell_type": "code",
   "execution_count": null,
   "metadata": {},
   "outputs": [],
   "source": [
    "#help(solvated_UN.save)\n",
    "from mbuild.formats.vasp import write_poscar"
   ]
  },
  {
   "cell_type": "code",
   "execution_count": null,
   "metadata": {},
   "outputs": [],
   "source": [
    "write_poscar(solvated_UN, \"CONTCAR_test\",1,bravais=[[9.8287,0,0],\n",
    "    [0,9.8287,0],[0,0,49.6569976800000035]], coord='cartesian')\n"
   ]
  },
  {
   "cell_type": "code",
   "execution_count": null,
   "metadata": {},
   "outputs": [],
   "source": [
    "import mbuild as mb\n"
   ]
  },
  {
   "cell_type": "code",
   "execution_count": null,
   "metadata": {},
   "outputs": [],
   "source": [
    "from mbuild.formats.vasp import write_poscar"
   ]
  },
  {
   "cell_type": "code",
   "execution_count": null,
   "metadata": {},
   "outputs": [],
   "source": []
  }
 ],
 "metadata": {
  "kernelspec": {
   "display_name": "Python 3",
   "language": "python",
   "name": "python3"
  },
  "language_info": {
   "codemirror_mode": {
    "name": "ipython",
    "version": 3
   },
   "file_extension": ".py",
   "mimetype": "text/x-python",
   "name": "python",
   "nbconvert_exporter": "python",
   "pygments_lexer": "ipython3",
   "version": "3.6.7"
  }
 },
 "nbformat": 4,
 "nbformat_minor": 4
}
